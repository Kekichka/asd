{
 "cells": [
  {
   "cell_type": "code",
   "execution_count": 1,
   "metadata": {},
   "outputs": [
    {
     "name": "stdout",
     "output_type": "stream",
     "text": [
      "Hello world\n"
     ]
    }
   ],
   "source": [
    "n = \"Hello world\"\n",
    "print(n)"
   ]
  },
  {
   "cell_type": "code",
   "execution_count": 3,
   "metadata": {},
   "outputs": [
    {
     "name": "stdout",
     "output_type": "stream",
     "text": [
      "[1, 2, 3, '4']\n"
     ]
    }
   ],
   "source": [
    "stack = [1,2,3,\"4\"]\n",
    "print (stack)"
   ]
  },
  {
   "cell_type": "code",
   "execution_count": 4,
   "metadata": {},
   "outputs": [
    {
     "data": {
      "text/plain": [
       "False"
      ]
     },
     "execution_count": 4,
     "metadata": {},
     "output_type": "execute_result"
    }
   ],
   "source": [
    "1==\"1\""
   ]
  },
  {
   "cell_type": "code",
   "execution_count": 8,
   "metadata": {},
   "outputs": [
    {
     "name": "stdout",
     "output_type": "stream",
     "text": [
      "Стек в порядку введення:  [2, 5, 6]\n",
      "Стек з парними числами:  [2, 6]\n",
      "Стек з непарними числами:  [5]\n"
     ]
    }
   ],
   "source": [
    "stck = []#створення стеку\n",
    "a = int(input(\"Введіть кількість цілих чисел для стеку: \"))#введення цифр в стек\n",
    "for i in range(a):\n",
    "    num = int(input(\"Введіть ціле число: \"))\n",
    "    stck.append(num)\n",
    "print(\"Стек в порядку введення: \", stck)\n",
    "even_stck = []#створення стеку для парних і непарних чисел\n",
    "odd_stck = []\n",
    "for num in stck:#розділення на парні і непарні числа\n",
    "    if num % 2 == 0:\n",
    "        even_stck.append(num)\n",
    "    else:\n",
    "        odd_stck.append(num)\n",
    "print (\"Стек з парними числами: \", even_stck)\n",
    "print (\"Стек з непарними числами: \", odd_stck)"
   ]
  }
 ],
 "metadata": {
  "kernelspec": {
   "display_name": "Python 3",
   "language": "python",
   "name": "python3"
  },
  "language_info": {
   "codemirror_mode": {
    "name": "ipython",
    "version": 3
   },
   "file_extension": ".py",
   "mimetype": "text/x-python",
   "name": "python",
   "nbconvert_exporter": "python",
   "pygments_lexer": "ipython3",
   "version": "3.11.5"
  },
  "orig_nbformat": 4
 },
 "nbformat": 4,
 "nbformat_minor": 2
}
